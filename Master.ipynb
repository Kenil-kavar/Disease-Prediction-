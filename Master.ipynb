{
 "cells": [
  {
   "cell_type": "code",
   "execution_count": 1,
   "metadata": {},
   "outputs": [
    {
     "name": "stdout",
     "output_type": "stream",
     "text": [
      "         AGE  DIFFERENTIAL_DIAGNOSIS  SEX  PATHOLOGY  EVIDENCES  \\\n",
      "0         18                   57046    1         45     423615   \n",
      "1         21                   92259    1         23     781791   \n",
      "2         19                   50013    0         34     603216   \n",
      "3         34                  230248    0         45     433501   \n",
      "4         36                  230219    1         45     435912   \n",
      "...      ...                     ...  ...        ...        ...   \n",
      "1025597   18                   65981    1         20     230617   \n",
      "1025598   28                   66051    0         20     684098   \n",
      "1025599    0                   65244    0         20     233533   \n",
      "1025600   26                   66001    0         20     602015   \n",
      "1025601   25                   65203    0         20     608382   \n",
      "\n",
      "         INITIAL_EVIDENCE  \n",
      "0                      90  \n",
      "1                      70  \n",
      "2                      82  \n",
      "3                      73  \n",
      "4                      45  \n",
      "...                   ...  \n",
      "1025597                90  \n",
      "1025598                90  \n",
      "1025599                44  \n",
      "1025600                44  \n",
      "1025601                73  \n",
      "\n",
      "[1025602 rows x 6 columns]\n"
     ]
    }
   ],
   "source": [
    "import numpy as np\n",
    "import pandas as pd\n",
    "import matplotlib.pyplot as plt\n",
    "\n",
    "import csv\n",
    "\n",
    "Xe=pd.DataFrame(pd.read_csv(\"release_test_patients.csv\"))\n",
    "Y=pd.DataFrame(pd.read_csv(\"release_train_patients.csv\"))\n",
    "Z=pd.DataFrame(pd.read_csv(\"release_validate_patients.csv\"))\n",
    "\n",
    "from sklearn.preprocessing import LabelEncoder\n",
    "encoder=LabelEncoder()\n",
    "\n",
    "Y['DIFFERENTIAL_DIAGNOSIS']=encoder.fit_transform(Y['DIFFERENTIAL_DIAGNOSIS'])\n",
    "Y['SEX']=encoder.fit_transform(Y['SEX'])\n",
    "Y['PATHOLOGY']=encoder.fit_transform(Y['PATHOLOGY'])\n",
    "Xe['PATHOLOGY']=encoder.fit_transform(Xe['PATHOLOGY'])\n",
    "Y['EVIDENCES']=encoder.fit_transform(Y['EVIDENCES'])\n",
    "Y['INITIAL_EVIDENCE']=encoder.fit_transform(Y['INITIAL_EVIDENCE'])\n",
    "print(Y)\n",
    "A=Y[[\"PATHOLOGY\"]]\n",
    "B=Y.drop([\"PATHOLOGY\"],axis=1)\n",
    "C=Xe.PATHOLOGY\n"
   ]
  },
  {
   "cell_type": "code",
   "execution_count": 2,
   "metadata": {},
   "outputs": [],
   "source": [
    "\n",
    "\n",
    "\n",
    "from sklearn.preprocessing import StandardScaler ## Feature Scaling\n",
    "\n",
    "\n",
    "from sklearn.model_selection import train_test_split\n",
    "X_train,X_test,y_train,y_test=train_test_split(B,A,test_size=0.30,random_state=42)\n",
    "\n",
    "\n",
    "from sklearn.tree import DecisionTreeClassifier\n",
    "\n",
    "from sklearn.metrics import accuracy_score"
   ]
  },
  {
   "cell_type": "code",
   "execution_count": 3,
   "metadata": {},
   "outputs": [
    {
     "name": "stdout",
     "output_type": "stream",
     "text": [
      "Accuracy: 0.9868175155436962\n"
     ]
    }
   ],
   "source": [
    "from sklearn.tree import DecisionTreeClassifier\n",
    "decision_tree_classifier = DecisionTreeClassifier()\n",
    "decision_tree_classifier.fit(X_train, y_train)\n",
    "y_pred = decision_tree_classifier.predict(X_test)\n",
    "accuracy = accuracy_score(y_test, y_pred)\n",
    "print(\"Accuracy:\", accuracy)"
   ]
  },
  {
   "cell_type": "code",
   "execution_count": null,
   "metadata": {},
   "outputs": [],
   "source": [
    "import pickle\n",
    "file = open('modelForPredictionDisease.pkl','wb')\n",
    "pickle.dump(decision_tree_classifier,file)\n",
    "file.close()"
   ]
  },
  {
   "cell_type": "code",
   "execution_count": null,
   "metadata": {},
   "outputs": [],
   "source": []
  }
 ],
 "metadata": {
  "kernelspec": {
   "display_name": "Python 3",
   "language": "python",
   "name": "python3"
  },
  "language_info": {
   "codemirror_mode": {
    "name": "ipython",
    "version": 3
   },
   "file_extension": ".py",
   "mimetype": "text/x-python",
   "name": "python",
   "nbconvert_exporter": "python",
   "pygments_lexer": "ipython3",
   "version": "3.11.5"
  },
  "orig_nbformat": 4
 },
 "nbformat": 4,
 "nbformat_minor": 2
}
